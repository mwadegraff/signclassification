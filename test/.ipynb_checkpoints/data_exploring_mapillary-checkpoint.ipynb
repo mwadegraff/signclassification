{
 "cells": [
  {
   "cell_type": "code",
   "execution_count": 6,
   "metadata": {
    "collapsed": true
   },
   "outputs": [],
   "source": [
    "import requests\n",
    "from pymongo import MongoClient\n",
    "import numpy as np"
   ]
  },
  {
   "cell_type": "code",
   "execution_count": 2,
   "metadata": {
    "collapsed": true
   },
   "outputs": [],
   "source": [
    "client = MongoClient('mongodb://localhost:27017/')"
   ]
  },
  {
   "cell_type": "code",
   "execution_count": 3,
   "metadata": {
    "collapsed": true
   },
   "outputs": [],
   "source": [
    "db = client.mapillary"
   ]
  },
  {
   "cell_type": "code",
   "execution_count": 4,
   "metadata": {
    "collapsed": true
   },
   "outputs": [],
   "source": [
    "signs = db.signs"
   ]
  },
  {
   "cell_type": "code",
   "execution_count": 7,
   "metadata": {
    "collapsed": false
   },
   "outputs": [],
   "source": [
    "signs_list = []\n",
    "for i in range(100):\n",
    "    signs_list.append(signs.find_one()['features'][i]['properties']['value'])\n",
    "signs_list = np.array(signs_list)"
   ]
  },
  {
   "cell_type": "code",
   "execution_count": 8,
   "metadata": {
    "collapsed": false
   },
   "outputs": [
    {
     "name": "stdout",
     "output_type": "stream",
     "text": [
      "error_import-warning--road-narrows-right--us\n",
      "regulatory--dual-lanes-bicyclists-and-pedestrians--g1\n",
      "regulatory--no-entry--g1\n",
      "regulatory--no-equestrians--g1\n",
      "regulatory--no-left-turn--g1\n",
      "regulatory--no-parking--g2\n",
      "regulatory--no-right-turn--g1\n",
      "regulatory--no-u-turn--g1\n",
      "regulatory--stop--g1\n",
      "regulatory--yield--g1\n",
      "warning--added-lane-right--g1\n",
      "warning--curve-left--g2\n",
      "warning--curve-right--g2\n",
      "warning--double-curve-first-left--g2\n",
      "warning--double-curve-first-right--g2\n",
      "warning--double-turn-first-right--g1\n",
      "warning--height-restriction--g2\n",
      "warning--junction-with-a-side-road-acute-left--g1\n",
      "warning--loop-270-degree--g1\n",
      "warning--pedestrians-crossing--g4\n",
      "warning--road-narrows-left--g2\n",
      "warning--road-narrows-right--g2\n",
      "warning--slippery-road-surface--g2\n",
      "warning--texts--g2\n",
      "warning--texts--g3\n",
      "warning--traffic-merges-right--g1\n",
      "warning--traffic-signals--g3\n",
      "warning--turn-left--g1\n",
      "warning--turn-right--g1\n"
     ]
    }
   ],
   "source": [
    "for i in np.unique(signs_list):\n",
    "    print i"
   ]
  },
  {
   "cell_type": "code",
   "execution_count": null,
   "metadata": {
    "collapsed": true
   },
   "outputs": [],
   "source": []
  }
 ],
 "metadata": {
  "kernelspec": {
   "display_name": "Python 2",
   "language": "python",
   "name": "python2"
  },
  "language_info": {
   "codemirror_mode": {
    "name": "ipython",
    "version": 2
   },
   "file_extension": ".py",
   "mimetype": "text/x-python",
   "name": "python",
   "nbconvert_exporter": "python",
   "pygments_lexer": "ipython2",
   "version": "2.7.13"
  }
 },
 "nbformat": 4,
 "nbformat_minor": 2
}
