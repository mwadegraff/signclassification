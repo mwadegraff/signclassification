{
 "cells": [
  {
   "cell_type": "code",
   "execution_count": 6,
   "metadata": {
    "collapsed": true
   },
   "outputs": [],
   "source": [
    "import numpy as np\n",
    "from PIL import Image\n",
    "import os\n",
    "import pandas as pd"
   ]
  },
  {
   "cell_type": "code",
   "execution_count": 7,
   "metadata": {
    "collapsed": true
   },
   "outputs": [],
   "source": [
    "class Make_Images(object):\n",
    "    def __init__(self, indir = os.getcwd(), outdir = os.getcwd()):\n",
    "        self.inder = indir\n",
    "        self.outdir = outdir\n",
    "        self.saved_images = []\n",
    "        self.image_dict = {}\n",
    "        self.sub_dirs = []\n",
    "        for directory in os.listdir(self.inder):\n",
    "            cnt_dir = os.path.join(self.inder,directory)\n",
    "            if os.path.splitext(cnt_dir)[1] == '' and directory[0] != '.':\n",
    "                self.sub_dirs.append(cnt_dir)\n",
    "\n",
    "        self.image_dirs = []\n",
    "        for directory in self.sub_dirs:\n",
    "            for subdir in os.listdir(directory):\n",
    "                if subdir[0] == 'f':\n",
    "                    self.image_dirs.append(os.path.join(self.inder,directory,subdir))\n",
    "\n",
    "        self.make_out_dir()\n",
    "        self.build_image_dict()\n",
    "    def make_out_dir(self):\n",
    "        \"\"\"\n",
    "        Creates the output directory.\n",
    "        \"\"\"\n",
    "        save_path = os.path.join(self.outdir, 'fullset/')\n",
    "        if not os.path.exists(save_path):\n",
    "            os.makedirs(save_path)\n",
    "            print \"Creating path: \" + save_path\n",
    "    def build_image_dict(self):\n",
    "        \"\"\"\n",
    "        Pulls an image in with PIL and\n",
    "        \"\"\"\n",
    "        print \"Building image dictionary\"\n",
    "        for directory in self.image_dirs:\n",
    "            images = [x for x in os.listdir(directory) if x[-4:] == '.png']\n",
    "            for image in images:\n",
    "                self.image_dict[image] = {}\n",
    "                self.image_dict[image]['path'] = os.path.join(directory,image)\n",
    "            image_annot = pd.read_csv(os.path.join(directory,'frameAnnotations.csv'), delimiter=';')\n",
    "            for row in range(len(image_annot)):\n",
    "                self.image_dict[image_annot.loc[row][0]]['bounds'] = [float(x) for x in str(image_annot.loc[row][2:6]).split() if x.isdigit()]\n",
    "                self.image_dict[image_annot.loc[row][0]]['type'] = image_annot.loc[row][1]\n",
    "    def crop_images(self):\n",
    "        \"\"\"\n",
    "        Crops image\n",
    "        \"\"\"\n",
    "        for im in self.image_dict.items():\n",
    "            img = Image.open(im[1]['path'])\n",
    "            img2 = img.crop(tuple(im[1]['bounds']))\n",
    "            longer_side = max(img2.size)\n",
    "            horizontal_padding = (longer_side - img2.size[0]) / 2\n",
    "            vertical_padding = (longer_side - img2.size[1]) / 2\n",
    "            img3 = img2.crop(\n",
    "            (\n",
    "                -horizontal_padding,\n",
    "                -vertical_padding,\n",
    "                img2.size[0] + horizontal_padding,\n",
    "                img2.size[1] + vertical_padding\n",
    "            )\n",
    "            )\n",
    "            if img3.size[0] > img3.size[1]:\n",
    "                img4 = img3.crop((0,0,img3.size[1],img3.size[1]))\n",
    "            elif img3.size[0] < img3.size[1]:\n",
    "                img4 = img3.crop((0,0,img3.size[0],img3.size[0]))\n",
    "            else:\n",
    "                img4 = img3\n",
    "            image_str = '{}{}'.format(im[1]['type'], str(img4.size))\n",
    "            x = 0\n",
    "            while image_str + str(x)in self.saved_images:\n",
    "                x += 1\n",
    "            image_str += str(x)\n",
    "            img4.save(os.path.join(self.outdir, \"fullset/\", \"{}.jpg\".format(image_str)))\n",
    "            self.image_dict[im[0]]['cropped'] = image_str\n",
    "            self.saved_images.append(image_str)\n",
    "            if len(os.listdir(os.path.join(self.outdir, 'fullset/'))) % 1000 == 0:\n",
    "                print len(os.listdir(os.path.join(self.outdir, 'fullset/')))\n"
   ]
  },
  {
   "cell_type": "code",
   "execution_count": 8,
   "metadata": {
    "collapsed": false
   },
   "outputs": [],
   "source": [
    "root = '/Users/brian/Documents/datasets/lisa_set'"
   ]
  },
  {
   "cell_type": "code",
   "execution_count": 9,
   "metadata": {
    "collapsed": false
   },
   "outputs": [],
   "source": [
    "sub_dirs = []\n",
    "for directory in os.listdir(root):\n",
    "    cnt_dir = os.path.join(root,directory)\n",
    "    if os.path.splitext(cnt_dir)[1] == '' and directory[0] != '.':\n",
    "        sub_dirs.append(cnt_dir)"
   ]
  },
  {
   "cell_type": "code",
   "execution_count": 10,
   "metadata": {
    "collapsed": false
   },
   "outputs": [],
   "source": [
    "image_dirs = []\n",
    "for directory in sub_dirs:\n",
    "    for subdir in os.listdir(directory):\n",
    "        if subdir[0] == 'f':\n",
    "            image_dirs.append(os.path.join(root,directory,subdir))"
   ]
  },
  {
   "cell_type": "code",
   "execution_count": 11,
   "metadata": {
    "collapsed": false
   },
   "outputs": [
    {
     "data": {
      "text/plain": [
       "['/Users/brian/Documents/datasets/lisa_set/aiua120214-0/frameAnnotations-DataLog02142012_external_camera.avi_annotations',\n",
       " '/Users/brian/Documents/datasets/lisa_set/aiua120214-1/frameAnnotations-DataLog02142012_001_external_camera.avi_annotations',\n",
       " '/Users/brian/Documents/datasets/lisa_set/aiua120214-2/frameAnnotations-DataLog02142012_002_external_camera.avi_annotations',\n",
       " '/Users/brian/Documents/datasets/lisa_set/aiua120306-0/frameAnnotations-DataLog02142012_002_external_camera.avi_annotations',\n",
       " '/Users/brian/Documents/datasets/lisa_set/aiua120306-1/frameAnnotations-DataLog02142012_003_external_camera.avi_annotations',\n",
       " '/Users/brian/Documents/datasets/lisa_set/vid0/frameAnnotations-vid_cmp2.avi_annotations',\n",
       " '/Users/brian/Documents/datasets/lisa_set/vid1/frameAnnotations-vid_cmp1.avi_annotations',\n",
       " '/Users/brian/Documents/datasets/lisa_set/vid10/frameAnnotations-MVI_0122.MOV_annotations',\n",
       " '/Users/brian/Documents/datasets/lisa_set/vid11/frameAnnotations-MVI_0123.MOV_annotations',\n",
       " '/Users/brian/Documents/datasets/lisa_set/vid2/frameAnnotations-vid_cmp2.avi_annotations',\n",
       " '/Users/brian/Documents/datasets/lisa_set/vid3/frameAnnotations-vid_cmp2.avi_annotations',\n",
       " '/Users/brian/Documents/datasets/lisa_set/vid4/frameAnnotations-vid_cmp2.avi_annotations',\n",
       " '/Users/brian/Documents/datasets/lisa_set/vid5/frameAnnotations-vid_cmp2.avi_annotations',\n",
       " '/Users/brian/Documents/datasets/lisa_set/vid6/frameAnnotations-MVI_0071.MOV_annotations',\n",
       " '/Users/brian/Documents/datasets/lisa_set/vid7/frameAnnotations-MVI_0119.MOV_annotations',\n",
       " '/Users/brian/Documents/datasets/lisa_set/vid8/frameAnnotations-MVI_0120.MOV_annotations',\n",
       " '/Users/brian/Documents/datasets/lisa_set/vid9/frameAnnotations-MVI_0121.MOV_annotations']"
      ]
     },
     "execution_count": 11,
     "metadata": {},
     "output_type": "execute_result"
    }
   ],
   "source": [
    "image_dirs"
   ]
  },
  {
   "cell_type": "code",
   "execution_count": 12,
   "metadata": {
    "collapsed": true
   },
   "outputs": [],
   "source": [
    "image_dict = {}\n",
    "for directory in image_dirs:\n",
    "    images = [x for x in os.listdir(directory) if x[-4:] == '.png']\n",
    "    for image in images:\n",
    "        image_dict[image] = {}\n",
    "        image_dict[image]['path'] = os.path.join(directory,image)\n",
    "    image_annot = pd.read_csv(os.path.join(directory,'frameAnnotations.csv'), delimiter=';')\n",
    "    for row in range(len(image_annot)):\n",
    "        image_dict[image_annot.loc[row][0]]['bounds'] = [float(x) for x in str(image_annot.loc[row][2:6]).split() if x.isdigit()]\n",
    "        image_dict[image_annot.loc[row][0]]['type'] = image_annot.loc[row][1]"
   ]
  },
  {
   "cell_type": "code",
   "execution_count": 14,
   "metadata": {
    "collapsed": false
   },
   "outputs": [
    {
     "data": {
      "text/plain": [
       "'/Users/brian/Documents/datasets/lisa_set/aiua120306-1/frameAnnotations-DataLog02142012_003_external_camera.avi_annotations/stopAhead_1333396732.avi_image0.png'"
      ]
     },
     "execution_count": 14,
     "metadata": {},
     "output_type": "execute_result"
    }
   ],
   "source": [
    "image_dict.items()[0][1]['path']"
   ]
  },
  {
   "cell_type": "code",
   "execution_count": 13,
   "metadata": {
    "collapsed": true
   },
   "outputs": [],
   "source": [
    "paths = []\n",
    "images = []\n",
    "for i in image_dict.items():\n",
    "    images.append(i[0])\n",
    "    paths.append(i[1]['path'])"
   ]
  },
  {
   "cell_type": "code",
   "execution_count": 17,
   "metadata": {
    "collapsed": false
   },
   "outputs": [
    {
     "data": {
      "text/plain": [
       "6618"
      ]
     },
     "execution_count": 17,
     "metadata": {},
     "output_type": "execute_result"
    }
   ],
   "source": [
    "len(np.unique(paths))"
   ]
  },
  {
   "cell_type": "code",
   "execution_count": 18,
   "metadata": {
    "collapsed": false
   },
   "outputs": [
    {
     "data": {
      "text/plain": [
       "6618"
      ]
     },
     "execution_count": 18,
     "metadata": {},
     "output_type": "execute_result"
    }
   ],
   "source": [
    "len(np.unique(images))"
   ]
  },
  {
   "cell_type": "code",
   "execution_count": 19,
   "metadata": {
    "collapsed": false
   },
   "outputs": [
    {
     "data": {
      "text/plain": [
       "'stopAhead_1333396732.avi_image0.png'"
      ]
     },
     "execution_count": 19,
     "metadata": {},
     "output_type": "execute_result"
    }
   ],
   "source": [
    "images[0]"
   ]
  },
  {
   "cell_type": "code",
   "execution_count": 20,
   "metadata": {
    "collapsed": false
   },
   "outputs": [
    {
     "data": {
      "text/plain": [
       "'/Users/brian/Documents/datasets/lisa_set/aiua120306-1/frameAnnotations-DataLog02142012_003_external_camera.avi_annotations/stopAhead_1333396732.avi_image0.png'"
      ]
     },
     "execution_count": 20,
     "metadata": {},
     "output_type": "execute_result"
    }
   ],
   "source": [
    "paths[0]"
   ]
  },
  {
   "cell_type": "code",
   "execution_count": 21,
   "metadata": {
    "collapsed": false
   },
   "outputs": [
    {
     "data": {
      "text/plain": [
       "6618"
      ]
     },
     "execution_count": 21,
     "metadata": {},
     "output_type": "execute_result"
    }
   ],
   "source": [
    "len(paths)"
   ]
  },
  {
   "cell_type": "code",
   "execution_count": 2,
   "metadata": {
    "collapsed": true
   },
   "outputs": [],
   "source": [
    "import json"
   ]
  },
  {
   "cell_type": "code",
   "execution_count": 14,
   "metadata": {
    "collapsed": false,
    "scrolled": true
   },
   "outputs": [],
   "source": [
    "with open('image_dict_full.json', 'w') as f:\n",
    "    json.dump(image_dict, f)"
   ]
  },
  {
   "cell_type": "code",
   "execution_count": null,
   "metadata": {
    "collapsed": true
   },
   "outputs": [],
   "source": []
  },
  {
   "cell_type": "code",
   "execution_count": 15,
   "metadata": {
    "collapsed": false
   },
   "outputs": [],
   "source": [
    "with open('image_dict_full.json') as data_file:    \n",
    "    data = json.load(data_file)"
   ]
  },
  {
   "cell_type": "code",
   "execution_count": 16,
   "metadata": {
    "collapsed": false
   },
   "outputs": [
    {
     "data": {
      "text/plain": [
       "dict"
      ]
     },
     "execution_count": 16,
     "metadata": {},
     "output_type": "execute_result"
    }
   ],
   "source": [
    "type(data)"
   ]
  },
  {
   "cell_type": "code",
   "execution_count": null,
   "metadata": {
    "collapsed": true
   },
   "outputs": [],
   "source": []
  }
 ],
 "metadata": {
  "kernelspec": {
   "display_name": "Python 2",
   "language": "python",
   "name": "python2"
  },
  "language_info": {
   "codemirror_mode": {
    "name": "ipython",
    "version": 2
   },
   "file_extension": ".py",
   "mimetype": "text/x-python",
   "name": "python",
   "nbconvert_exporter": "python",
   "pygments_lexer": "ipython2",
   "version": "2.7.13"
  }
 },
 "nbformat": 4,
 "nbformat_minor": 2
}
