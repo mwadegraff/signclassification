{
 "cells": [
  {
   "cell_type": "code",
   "execution_count": 1,
   "metadata": {
    "collapsed": true
   },
   "outputs": [],
   "source": [
    "from sklearn.cross_validation import KFold"
   ]
  },
  {
   "cell_type": "code",
   "execution_count": 3,
   "metadata": {
    "collapsed": false
   },
   "outputs": [],
   "source": [
    "KFold?"
   ]
  },
  {
   "cell_type": "code",
   "execution_count": null,
   "metadata": {
    "collapsed": true
   },
   "outputs": [],
   "source": [
    "import numpy as np\n",
    "from PIL import Image\n",
    "import os\n",
    "import pandas as pd"
   ]
  },
  {
   "cell_type": "markdown",
   "metadata": {},
   "source": [
    "Open root directory:"
   ]
  },
  {
   "cell_type": "code",
   "execution_count": null,
   "metadata": {
    "collapsed": true
   },
   "outputs": [],
   "source": [
    "root = '/Users/brian/Documents/datasets/lisa_set'"
   ]
  },
  {
   "cell_type": "markdown",
   "metadata": {},
   "source": [
    "Create a list of the-sub directories that have images:"
   ]
  },
  {
   "cell_type": "code",
   "execution_count": null,
   "metadata": {
    "collapsed": true
   },
   "outputs": [],
   "source": [
    "image_dirs = [str(x) for x in os.listdir(root) if x[-1].isdigit()]"
   ]
  },
  {
   "cell_type": "markdown",
   "metadata": {},
   "source": [
    "Get all further sub-directories with images in them:"
   ]
  },
  {
   "cell_type": "code",
   "execution_count": null,
   "metadata": {
    "collapsed": false,
    "scrolled": true
   },
   "outputs": [],
   "source": [
    "image_paths = []\n",
    "for direct in image_dirs:\n",
    "    for subdir in os.listdir(root+'/'+direct)[:]:\n",
    "        if subdir[0].isalpha():\n",
    "            image_paths.append(root+'/'+direct+'/'+subdir+'/')"
   ]
  },
  {
   "cell_type": "code",
   "execution_count": null,
   "metadata": {
    "collapsed": true
   },
   "outputs": [],
   "source": [
    "bounding = 'frameAnnotations.csv' # String name for the annotations"
   ]
  },
  {
   "cell_type": "code",
   "execution_count": null,
   "metadata": {
    "collapsed": false,
    "scrolled": true
   },
   "outputs": [],
   "source": [
    "for i in range(len(image_paths)):\n",
    "    make_images(i)\n",
    "    print \"Finished set: {}\".format(i)"
   ]
  },
  {
   "cell_type": "code",
   "execution_count": null,
   "metadata": {
    "collapsed": true
   },
   "outputs": [],
   "source": [
    "def make_images(current_ind):\n",
    "    print \"Starting set: \" + str(current_ind)\n",
    "    current = image_paths[current_ind]\n",
    "    images = [x for x in os.listdir(current) if '.png' in x]\n",
    "    image_annot = pd.read_csv(current+bounding, delimiter=';')\n",
    "\n",
    "    save_path = r'/Users/brian/Google Drive/Galvanize/course/capstone/signclassification/data/fullset/set_{}'.format(current_ind) \n",
    "    if not os.path.exists(save_path):\n",
    "        os.makedirs(save_path)\n",
    "        print \"Creating path: \" + save_path\n",
    "    with open('data/fullset/set_{}/path.txt'.format(current_ind), 'w') as f:\n",
    "        f.write(image_paths[i])\n",
    "\n",
    "    image_bounds_1 = {}\n",
    "    for row in range(len(image_annot)):\n",
    "        image_bounds_1[image_annot.loc[row][0]] = (image_annot.loc[row][1],[float(x) for x in str(image_annot.loc[row][2:6]).split() if x.isdigit()])\n",
    "\n",
    "    saved_images = []\n",
    "    for im in image_bounds_1.keys():\n",
    "        img = Image.open(current+im)\n",
    "        img2 = img.crop(tuple(image_bounds_1[im][1]))\n",
    "        longer_side = max(img2.size)\n",
    "        horizontal_padding = (longer_side - img2.size[0]) / 2\n",
    "        vertical_padding = (longer_side - img2.size[1]) / 2\n",
    "        img3 = img2.crop(\n",
    "        (\n",
    "            -horizontal_padding,\n",
    "            -vertical_padding,\n",
    "            img2.size[0] + horizontal_padding,\n",
    "            img2.size[1] + vertical_padding\n",
    "        )\n",
    "        )\n",
    "        if img3.size[0] > img3.size[1]:\n",
    "            img4 = img3.crop((0,0,img3.size[1],img3.size[1]))\n",
    "        elif img3.size[0] < img3.size[1]:\n",
    "            img4 = img3.crop((0,0,img3.size[0],img3.size[0]))\n",
    "        else:\n",
    "            img4 = img3\n",
    "        image_str = '{}{}'.format(image_bounds_1[im][0], str(img4.size))\n",
    "        x = 0\n",
    "        while image_str + str(x) in saved_images:\n",
    "            x += 1\n",
    "        image_str += str(x)\n",
    "        saved_images.append(image_str)\n",
    "        img4.save(\"./data/fullset/set_{}/{}.jpg\".format(current_ind, image_str))\n",
    "    "
   ]
  }
 ],
 "metadata": {
  "kernelspec": {
   "display_name": "Python 2",
   "language": "python",
   "name": "python2"
  },
  "language_info": {
   "codemirror_mode": {
    "name": "ipython",
    "version": 2
   },
   "file_extension": ".py",
   "mimetype": "text/x-python",
   "name": "python",
   "nbconvert_exporter": "python",
   "pygments_lexer": "ipython2",
   "version": "2.7.13"
  }
 },
 "nbformat": 4,
 "nbformat_minor": 2
}
